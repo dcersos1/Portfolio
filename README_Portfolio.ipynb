{
 "cells": [
  {
   "cell_type": "markdown",
   "id": "48b60fd9",
   "metadata": {},
   "source": [
    "Daniel Cersosimo's Project Portfolio\n",
    "\n",
    "Welcome to my Github Portfolio! I am interested in a vareity of fields such as Data Science, Machine Learning, AI, Business Intelligence, and Information Systems and I am eager for new oppurtunities to be able to apply my knowledge while gaining valuable experience. This respository is a collection of some of my projects which showcase my skills. \n",
    "\n",
    "Contents \n",
    "\n",
    "London Temperature Forecasting \n",
    "\n",
    "Inventory Management Application \n",
    "\n",
    "Analysis of the Factors Impacting the Adpotion of Blockchain Technology in the United States \n",
    "\n",
    "Digital Arcade \n",
    "\n",
    "\n"
   ]
  },
  {
   "cell_type": "code",
   "execution_count": null,
   "id": "c4147ca5",
   "metadata": {},
   "outputs": [],
   "source": []
  }
 ],
 "metadata": {
  "kernelspec": {
   "display_name": "Python 3 (ipykernel)",
   "language": "python",
   "name": "python3"
  },
  "language_info": {
   "codemirror_mode": {
    "name": "ipython",
    "version": 3
   },
   "file_extension": ".py",
   "mimetype": "text/x-python",
   "name": "python",
   "nbconvert_exporter": "python",
   "pygments_lexer": "ipython3",
   "version": "3.9.7"
  }
 },
 "nbformat": 4,
 "nbformat_minor": 5
}
